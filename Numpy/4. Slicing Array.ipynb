{
 "cells": [
  {
   "cell_type": "code",
   "execution_count": 1,
   "id": "a059706e",
   "metadata": {},
   "outputs": [],
   "source": [
    "import numpy as np"
   ]
  },
  {
   "cell_type": "markdown",
   "id": "986f5577",
   "metadata": {},
   "source": [
    "# 1D Array"
   ]
  },
  {
   "cell_type": "code",
   "execution_count": 2,
   "id": "5f7942b0",
   "metadata": {},
   "outputs": [
    {
     "data": {
      "text/plain": [
       "array([ 1,  2,  3,  4,  5,  6,  7,  8,  9, 10])"
      ]
     },
     "execution_count": 2,
     "metadata": {},
     "output_type": "execute_result"
    }
   ],
   "source": [
    "a=np.array([1,2,3,4,5,6,7,8,9,10])\n",
    "a"
   ]
  },
  {
   "cell_type": "code",
   "execution_count": 3,
   "id": "2f185995",
   "metadata": {},
   "outputs": [
    {
     "data": {
      "text/plain": [
       "array([1, 2, 3, 4, 5])"
      ]
     },
     "execution_count": 3,
     "metadata": {},
     "output_type": "execute_result"
    }
   ],
   "source": [
    "#Slicing from first to 5th element\n",
    "a[:5]"
   ]
  },
  {
   "cell_type": "code",
   "execution_count": 4,
   "id": "57b5f1d8",
   "metadata": {},
   "outputs": [
    {
     "data": {
      "text/plain": [
       "array([ 6,  7,  8,  9, 10])"
      ]
     },
     "execution_count": 4,
     "metadata": {},
     "output_type": "execute_result"
    }
   ],
   "source": [
    "#Slicing from 6th to last element\n",
    "a[5:]"
   ]
  },
  {
   "cell_type": "code",
   "execution_count": 5,
   "id": "8435a5e3",
   "metadata": {},
   "outputs": [
    {
     "data": {
      "text/plain": [
       "array([2, 3, 4, 5, 6, 7, 8])"
      ]
     },
     "execution_count": 5,
     "metadata": {},
     "output_type": "execute_result"
    }
   ],
   "source": [
    "#Slicing from 2nd to 8th element\n",
    "a[1:8]"
   ]
  },
  {
   "cell_type": "code",
   "execution_count": 6,
   "id": "ed56b474",
   "metadata": {},
   "outputs": [
    {
     "data": {
      "text/plain": [
       "array([1, 2, 3, 4, 5])"
      ]
     },
     "execution_count": 6,
     "metadata": {},
     "output_type": "execute_result"
    }
   ],
   "source": [
    "#Negative Slicing\n",
    "a[-10:-5]"
   ]
  },
  {
   "cell_type": "code",
   "execution_count": 7,
   "id": "dfe7892b",
   "metadata": {},
   "outputs": [
    {
     "data": {
      "text/plain": [
       "array([1, 3, 5, 7, 9])"
      ]
     },
     "execution_count": 7,
     "metadata": {},
     "output_type": "execute_result"
    }
   ],
   "source": [
    "# Slicing by stepping two numbers\n",
    "# a[0:10:2]\n",
    "a[::2]"
   ]
  },
  {
   "cell_type": "markdown",
   "id": "796ecf9e",
   "metadata": {},
   "source": [
    "# 2D Array"
   ]
  },
  {
   "cell_type": "markdown",
   "id": "96d7ff0b",
   "metadata": {},
   "source": [
    "<h3>Row</h3>"
   ]
  },
  {
   "cell_type": "code",
   "execution_count": 8,
   "id": "686fe85b",
   "metadata": {},
   "outputs": [
    {
     "data": {
      "text/plain": [
       "array([[1, 2, 3],\n",
       "       [4, 5, 6],\n",
       "       [7, 8, 9]])"
      ]
     },
     "execution_count": 8,
     "metadata": {},
     "output_type": "execute_result"
    }
   ],
   "source": [
    "b=np.array([[1,2,3],[4,5,6],[7,8,9]])\n",
    "b"
   ]
  },
  {
   "cell_type": "code",
   "execution_count": 9,
   "id": "1aa10a39",
   "metadata": {},
   "outputs": [
    {
     "data": {
      "text/plain": [
       "array([[4, 5, 6],\n",
       "       [7, 8, 9]])"
      ]
     },
     "execution_count": 9,
     "metadata": {},
     "output_type": "execute_result"
    }
   ],
   "source": [
    "#Slicing from second to last element in row\n",
    "b[1:]"
   ]
  },
  {
   "cell_type": "code",
   "execution_count": 10,
   "id": "dfd8086f",
   "metadata": {},
   "outputs": [
    {
     "data": {
      "text/plain": [
       "array([7, 8, 9])"
      ]
     },
     "execution_count": 10,
     "metadata": {},
     "output_type": "execute_result"
    }
   ],
   "source": [
    "#Slicing third element only\n",
    "# b[2:3]\n",
    "b[2,...]"
   ]
  },
  {
   "cell_type": "code",
   "execution_count": 11,
   "id": "875ff14a",
   "metadata": {},
   "outputs": [
    {
     "data": {
      "text/plain": [
       "array([4, 5])"
      ]
     },
     "execution_count": 11,
     "metadata": {},
     "output_type": "execute_result"
    }
   ],
   "source": [
    "#Printing first two elements of 2nd dimension\n",
    "b[1,:2]"
   ]
  },
  {
   "cell_type": "markdown",
   "id": "2389803a",
   "metadata": {},
   "source": [
    "<h3>Column</h3>"
   ]
  },
  {
   "cell_type": "code",
   "execution_count": 12,
   "id": "ac43d708",
   "metadata": {},
   "outputs": [
    {
     "data": {
      "text/plain": [
       "array([[1, 2, 3],\n",
       "       [4, 5, 6],\n",
       "       [7, 8, 9]])"
      ]
     },
     "execution_count": 12,
     "metadata": {},
     "output_type": "execute_result"
    }
   ],
   "source": [
    "b"
   ]
  },
  {
   "cell_type": "code",
   "execution_count": 13,
   "id": "b45a6ca2",
   "metadata": {},
   "outputs": [
    {
     "data": {
      "text/plain": [
       "array([1, 4, 7])"
      ]
     },
     "execution_count": 13,
     "metadata": {},
     "output_type": "execute_result"
    }
   ],
   "source": [
    "#Printing the first column\n",
    "b[...,0]"
   ]
  },
  {
   "cell_type": "code",
   "execution_count": 14,
   "id": "e152c97f",
   "metadata": {},
   "outputs": [
    {
     "data": {
      "text/plain": [
       "array([[2, 3],\n",
       "       [5, 6],\n",
       "       [8, 9]])"
      ]
     },
     "execution_count": 14,
     "metadata": {},
     "output_type": "execute_result"
    }
   ],
   "source": [
    "#Slicing from second to last element in column\n",
    "b[...,1:]"
   ]
  },
  {
   "cell_type": "code",
   "execution_count": null,
   "id": "9082e7df",
   "metadata": {},
   "outputs": [],
   "source": []
  }
 ],
 "metadata": {
  "kernelspec": {
   "display_name": "Python 3",
   "language": "python",
   "name": "python3"
  },
  "language_info": {
   "codemirror_mode": {
    "name": "ipython",
    "version": 3
   },
   "file_extension": ".py",
   "mimetype": "text/x-python",
   "name": "python",
   "nbconvert_exporter": "python",
   "pygments_lexer": "ipython3",
   "version": "3.8.10"
  }
 },
 "nbformat": 4,
 "nbformat_minor": 5
}
