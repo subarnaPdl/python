{
 "cells": [
  {
   "cell_type": "code",
   "execution_count": 1,
   "id": "29dd59c5",
   "metadata": {},
   "outputs": [],
   "source": [
    "import numpy as np"
   ]
  },
  {
   "cell_type": "markdown",
   "id": "b47baf9e",
   "metadata": {},
   "source": [
    "i - integer <br>\n",
    "u - unsigned integer <br>\n",
    "f - float <br>\n",
    "c - complex float <br>\n",
    "S - string <br>\n",
    "U - unicode string <br>\n",
    "b - boolean <br>\n",
    "m - timedelta <br>\n",
    "M - datetime <br>\n",
    "O - object <br>\n",
    "V - void<br>"
   ]
  },
  {
   "cell_type": "code",
   "execution_count": 2,
   "id": "e0fee37b",
   "metadata": {},
   "outputs": [
    {
     "name": "stdout",
     "output_type": "stream",
     "text": [
      "int32\n"
     ]
    }
   ],
   "source": [
    "#Array with integer data type\n",
    "a=np.array([1,2,3])\n",
    "print(a.dtype)"
   ]
  },
  {
   "cell_type": "code",
   "execution_count": 3,
   "id": "8d5b886f",
   "metadata": {},
   "outputs": [
    {
     "name": "stdout",
     "output_type": "stream",
     "text": [
      "|S1\n"
     ]
    }
   ],
   "source": [
    "#Integer to string\n",
    "b=a.astype('S1')\n",
    "print(b.dtype)"
   ]
  },
  {
   "cell_type": "code",
   "execution_count": 4,
   "id": "00f53772",
   "metadata": {},
   "outputs": [
    {
     "name": "stdout",
     "output_type": "stream",
     "text": [
      "float32\n"
     ]
    }
   ],
   "source": [
    "#Array with float data type\n",
    "c=np.array([1,2,3], dtype='f')\n",
    "print(c.dtype)"
   ]
  },
  {
   "cell_type": "code",
   "execution_count": null,
   "id": "80d2ea78",
   "metadata": {},
   "outputs": [],
   "source": []
  }
 ],
 "metadata": {
  "kernelspec": {
   "display_name": "Python 3",
   "language": "python",
   "name": "python3"
  },
  "language_info": {
   "codemirror_mode": {
    "name": "ipython",
    "version": 3
   },
   "file_extension": ".py",
   "mimetype": "text/x-python",
   "name": "python",
   "nbconvert_exporter": "python",
   "pygments_lexer": "ipython3",
   "version": "3.8.10"
  }
 },
 "nbformat": 4,
 "nbformat_minor": 5
}
