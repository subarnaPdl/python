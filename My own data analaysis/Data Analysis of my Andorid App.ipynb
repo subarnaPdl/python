{
 "cells": [
  {
   "cell_type": "code",
   "execution_count": null,
   "id": "a0f79eff",
   "metadata": {},
   "outputs": [],
   "source": [
    "import numpy as np\n",
    "import pandas as pd\n",
    "import matplotlib.pyplot as plt\n",
    "%matplotlib inline"
   ]
  },
  {
   "cell_type": "markdown",
   "id": "3c7859e6",
   "metadata": {},
   "source": [
    "## Data Preparation and Cleaning\n",
    "The idea behind this project was to download my 'NEB Plus 2 Notes' app report of June from Google Play, organise it in the .csv file, clean the data and discover trends that might be of my interest. This project was a brilliant opportunity to practice Python data science skills, test my understanding of tools behind industry-applied libraries and present data in a concise format."
   ]
  },
  {
   "cell_type": "code",
   "execution_count": null,
   "id": "db8f386e",
   "metadata": {},
   "outputs": [],
   "source": [
    "data=pd.read_csv('data.csv')\n",
    "data"
   ]
  },
  {
   "cell_type": "markdown",
   "id": "c16df840",
   "metadata": {},
   "source": [
    "<h3>Data Cleaning</h3>"
   ]
  },
  {
   "cell_type": "markdown",
   "id": "41acef99",
   "metadata": {},
   "source": [
    "Here we remove the columns with empty values"
   ]
  },
  {
   "cell_type": "code",
   "execution_count": null,
   "id": "589bb9e9",
   "metadata": {},
   "outputs": [],
   "source": [
    "data.drop({'Package Name','Daily Device Installs', 'Daily Device Uninstalls', 'Daily Device Upgrades', \"Total User Installs\"},\n",
    "          axis = 1,\n",
    "          inplace = True\n",
    "         )"
   ]
  },
  {
   "cell_type": "code",
   "execution_count": null,
   "id": "b073602e",
   "metadata": {},
   "outputs": [],
   "source": [
    "data.head(5)"
   ]
  },
  {
   "cell_type": "markdown",
   "id": "39c56aa2",
   "metadata": {},
   "source": [
    "<h3>General Information</h3>"
   ]
  },
  {
   "cell_type": "markdown",
   "id": "59138be4",
   "metadata": {},
   "source": [
    "General information about rows and columns and the datas in it"
   ]
  },
  {
   "cell_type": "code",
   "execution_count": null,
   "id": "7b2bd090",
   "metadata": {
    "scrolled": true
   },
   "outputs": [],
   "source": [
    "data.info()"
   ]
  },
  {
   "cell_type": "code",
   "execution_count": null,
   "id": "616c0805",
   "metadata": {
    "scrolled": true
   },
   "outputs": [],
   "source": [
    "data.describe()"
   ]
  },
  {
   "cell_type": "markdown",
   "id": "fe557fa1",
   "metadata": {},
   "source": [
    "\n",
    "## Data Visualization"
   ]
  },
  {
   "cell_type": "markdown",
   "id": "775b711c",
   "metadata": {},
   "source": [
    "Here we visualize the data using matplotlib"
   ]
  },
  {
   "cell_type": "code",
   "execution_count": null,
   "id": "fcd0ce33",
   "metadata": {},
   "outputs": [],
   "source": [
    "plt.plot(data['Active Device Installs'])\n",
    "\n",
    "plt.title('Active Devices')\n",
    "\n",
    "plt.xlabel('Days')\n",
    "plt.ylabel('Count');"
   ]
  },
  {
   "cell_type": "code",
   "execution_count": null,
   "id": "e99cd35b",
   "metadata": {},
   "outputs": [],
   "source": [
    "plt.plot(data['Daily User Installs'])\n",
    "plt.plot(data['Daily User Uninstalls'])\n",
    "\n",
    "plt.title('Daily Installs vs Uninstalls')\n",
    "\n",
    "plt.xlabel('Days')\n",
    "plt.ylabel('Count')\n",
    "\n",
    "plt.legend(['Installs', 'Uninstalls']);"
   ]
  },
  {
   "cell_type": "code",
   "execution_count": null,
   "id": "c5d95ea1",
   "metadata": {},
   "outputs": [],
   "source": [
    "plt.bar(pd.DatetimeIndex(data['Date']).day,data['Install events'])\n",
    "plt.bar(pd.DatetimeIndex(data['Date']).day,data['Uninstall events'])\n",
    "\n",
    "plt.title('Installs vs Uninstalls')\n",
    "\n",
    "plt.xlabel('Days')\n",
    "plt.ylabel('Count')\n",
    "\n",
    "plt.legend(['Installs', 'Uninstalls']);"
   ]
  },
  {
   "cell_type": "code",
   "execution_count": null,
   "id": "f5411692",
   "metadata": {},
   "outputs": [],
   "source": [
    "plt.plot(data['Install events'])\n",
    "plt.plot(data['Update events'])\n",
    "plt.plot(data['Uninstall events'])\n",
    "\n",
    "plt.title('App Activity')\n",
    "\n",
    "plt.xlabel('Days')\n",
    "plt.ylabel('Count')\n",
    "\n",
    "plt.legend(['Installs', 'Updates', 'Uninstalls']);"
   ]
  },
  {
   "cell_type": "code",
   "execution_count": null,
   "id": "8c2d4fa1",
   "metadata": {
    "scrolled": true
   },
   "outputs": [],
   "source": [
    "plt.plot(data['Active Device Installs'])\n",
    "plt.plot(data['Install events'])\n",
    "\n",
    "plt.title('Active devices vs installs')\n",
    "\n",
    "plt.xlabel('Days')\n",
    "plt.ylabel('Count')\n",
    "\n",
    "plt.legend(['Active Devices', 'Installs']);"
   ]
  }
 ],
 "metadata": {
  "kernelspec": {
   "display_name": "Python 3",
   "language": "python",
   "name": "python3"
  },
  "language_info": {
   "codemirror_mode": {
    "name": "ipython",
    "version": 3
   },
   "file_extension": ".py",
   "mimetype": "text/x-python",
   "name": "python",
   "nbconvert_exporter": "python",
   "pygments_lexer": "ipython3",
   "version": "3.8.10"
  }
 },
 "nbformat": 4,
 "nbformat_minor": 5
}
